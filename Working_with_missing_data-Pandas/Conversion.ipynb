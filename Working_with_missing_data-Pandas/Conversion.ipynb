{
 "cells": [
  {
   "cell_type": "markdown",
   "id": "69e2aa7b",
   "metadata": {},
   "source": [
    "## [Conversion](https://pandas.pydata.org/pandas-docs/stable/user_guide/missing_data.html#conversion)"
   ]
  },
  {
   "cell_type": "code",
   "execution_count": 19,
   "id": "3511a97e",
   "metadata": {},
   "outputs": [],
   "source": [
    "import io\n",
    "import pandas as pd\n",
    "import numpy as np"
   ]
  },
  {
   "cell_type": "code",
   "execution_count": 7,
   "id": "282b3d75",
   "metadata": {},
   "outputs": [
    {
     "data": {
      "text/plain": [
       "<_io.StringIO at 0x7832036c1780>"
      ]
     },
     "execution_count": 7,
     "metadata": {},
     "output_type": "execute_result"
    }
   ],
   "source": [
    "data = io.StringIO(\"a,b\\n,True\\n2,\")\n",
    "data"
   ]
  },
  {
   "cell_type": "code",
   "execution_count": 8,
   "id": "a7d4aa0d",
   "metadata": {},
   "outputs": [
    {
     "data": {
      "text/html": [
       "<div>\n",
       "<style scoped>\n",
       "    .dataframe tbody tr th:only-of-type {\n",
       "        vertical-align: middle;\n",
       "    }\n",
       "\n",
       "    .dataframe tbody tr th {\n",
       "        vertical-align: top;\n",
       "    }\n",
       "\n",
       "    .dataframe thead th {\n",
       "        text-align: right;\n",
       "    }\n",
       "</style>\n",
       "<table border=\"1\" class=\"dataframe\">\n",
       "  <thead>\n",
       "    <tr style=\"text-align: right;\">\n",
       "      <th></th>\n",
       "      <th>a</th>\n",
       "      <th>b</th>\n",
       "    </tr>\n",
       "  </thead>\n",
       "  <tbody>\n",
       "    <tr>\n",
       "      <th>0</th>\n",
       "      <td>NaN</td>\n",
       "      <td>True</td>\n",
       "    </tr>\n",
       "    <tr>\n",
       "      <th>1</th>\n",
       "      <td>2.0</td>\n",
       "      <td>NaN</td>\n",
       "    </tr>\n",
       "  </tbody>\n",
       "</table>\n",
       "</div>"
      ],
      "text/plain": [
       "     a     b\n",
       "0  NaN  True\n",
       "1  2.0   NaN"
      ]
     },
     "execution_count": 8,
     "metadata": {},
     "output_type": "execute_result"
    }
   ],
   "source": [
    "df  = pd.read_csv(data)\n",
    "df"
   ]
  },
  {
   "cell_type": "code",
   "execution_count": 9,
   "id": "2ce14979",
   "metadata": {},
   "outputs": [
    {
     "data": {
      "text/plain": [
       "a    float64\n",
       "b     object\n",
       "dtype: object"
      ]
     },
     "execution_count": 9,
     "metadata": {},
     "output_type": "execute_result"
    }
   ],
   "source": [
    "df.dtypes"
   ]
  },
  {
   "cell_type": "code",
   "execution_count": 11,
   "id": "63dfaba1",
   "metadata": {},
   "outputs": [
    {
     "data": {
      "text/html": [
       "<div>\n",
       "<style scoped>\n",
       "    .dataframe tbody tr th:only-of-type {\n",
       "        vertical-align: middle;\n",
       "    }\n",
       "\n",
       "    .dataframe tbody tr th {\n",
       "        vertical-align: top;\n",
       "    }\n",
       "\n",
       "    .dataframe thead th {\n",
       "        text-align: right;\n",
       "    }\n",
       "</style>\n",
       "<table border=\"1\" class=\"dataframe\">\n",
       "  <thead>\n",
       "    <tr style=\"text-align: right;\">\n",
       "      <th></th>\n",
       "      <th>a</th>\n",
       "      <th>b</th>\n",
       "    </tr>\n",
       "  </thead>\n",
       "  <tbody>\n",
       "    <tr>\n",
       "      <th>0</th>\n",
       "      <td>&lt;NA&gt;</td>\n",
       "      <td>True</td>\n",
       "    </tr>\n",
       "    <tr>\n",
       "      <th>1</th>\n",
       "      <td>2</td>\n",
       "      <td>&lt;NA&gt;</td>\n",
       "    </tr>\n",
       "  </tbody>\n",
       "</table>\n",
       "</div>"
      ],
      "text/plain": [
       "      a     b\n",
       "0  <NA>  True\n",
       "1     2  <NA>"
      ]
     },
     "execution_count": 11,
     "metadata": {},
     "output_type": "execute_result"
    }
   ],
   "source": [
    "df_conv = df.convert_dtypes()\n",
    "df_conv"
   ]
  },
  {
   "cell_type": "code",
   "execution_count": 12,
   "id": "c8144fd5",
   "metadata": {},
   "outputs": [
    {
     "data": {
      "text/plain": [
       "a      Int64\n",
       "b    boolean\n",
       "dtype: object"
      ]
     },
     "execution_count": 12,
     "metadata": {},
     "output_type": "execute_result"
    }
   ],
   "source": [
    "df_conv.dtypes"
   ]
  },
  {
   "cell_type": "markdown",
   "id": "cd70c4d4",
   "metadata": {},
   "source": [
    "## [Inserting missing data](https://pandas.pydata.org/pandas-docs/stable/user_guide/missing_data.html#inserting-missing-data)\n",
    "You can insert missing values by simply assigning to a `Series` or `DataFrame`. The missing value sentinel used will be chosen based on the dtype."
   ]
  },
  {
   "cell_type": "code",
   "execution_count": 17,
   "id": "2a904422",
   "metadata": {},
   "outputs": [
    {
     "name": "stdout",
     "output_type": "stream",
     "text": [
      "ser = \n",
      "0    1.0\n",
      "1    2.0\n",
      "2    3.0\n",
      "dtype: float64\n",
      "\n",
      "ser = \n",
      "0    NaN\n",
      "1    2.0\n",
      "2    3.0\n",
      "dtype: float64\n"
     ]
    }
   ],
   "source": [
    "ser = pd.Series([1.,2.,3.])\n",
    "print(f'ser = \\n{ser}')\n",
    "ser.loc[0] = None\n",
    "print(f'\\nser = \\n{ser}')"
   ]
  },
  {
   "cell_type": "code",
   "execution_count": 25,
   "id": "1903ae10",
   "metadata": {},
   "outputs": [
    {
     "name": "stdout",
     "output_type": "stream",
     "text": [
      "ser = \n",
      "0   2021-01-01\n",
      "1   2021-01-01\n",
      "dtype: datetime64[ns]\n",
      "\n",
      "ser = \n",
      "0          NaT\n",
      "1   2021-01-01\n",
      "dtype: datetime64[ns]\n"
     ]
    }
   ],
   "source": [
    "ser  = pd.Series([pd.Timestamp('2021'),pd.Timestamp('2021')])\n",
    "print(f'ser = \\n{ser}')\n",
    "ser.iloc[0] = np.nan\n",
    "print(f'\\nser = \\n{ser}')"
   ]
  },
  {
   "cell_type": "code",
   "execution_count": 27,
   "id": "0ccb1f71",
   "metadata": {},
   "outputs": [
    {
     "name": "stdout",
     "output_type": "stream",
     "text": [
      "ser = \n",
      "0     True\n",
      "1    False\n",
      "dtype: bool[pyarrow]\n",
      "]nser = \n",
      "0     <NA>\n",
      "1    False\n",
      "dtype: bool[pyarrow]\n"
     ]
    }
   ],
   "source": [
    "ser = pd.Series([True, False], dtype = 'boolean[pyarrow]')\n",
    "print(f'ser = \\n{ser}')\n",
    "ser.iloc[0] = None\n",
    "print(f']nser = \\n{ser}')"
   ]
  },
  {
   "cell_type": "markdown",
   "id": "8d81139b",
   "metadata": {},
   "source": [
    "##### For object types, pandas will use the value given:"
   ]
  },
  {
   "cell_type": "code",
   "execution_count": 29,
   "id": "bbb7a046",
   "metadata": {},
   "outputs": [
    {
     "name": "stdout",
     "output_type": "stream",
     "text": [
      "ser = \n",
      "0    a\n",
      "1    b\n",
      "2    c\n",
      "3    d\n",
      "4    e\n",
      "dtype: object\n",
      "\n",
      "ser = \n",
      "0       a\n",
      "1    None\n",
      "2     NaN\n",
      "3    <NA>\n",
      "4       e\n",
      "dtype: object\n"
     ]
    }
   ],
   "source": [
    "ser = pd.Series(list('abcde'), dtype = 'object')\n",
    "print(f'ser = \\n{ser}')\n",
    "ser.iloc[1] = None\n",
    "ser.iloc[2] = np.nan\n",
    "ser.iloc[3] = pd.NA\n",
    "print(f'\\nser = \\n{ser}')"
   ]
  },
  {
   "cell_type": "markdown",
   "id": "5a0f872b",
   "metadata": {},
   "source": [
    "## [Calculations with missing data](https://pandas.pydata.org/pandas-docs/stable/user_guide/missing_data.html#calculations-with-missing-data)"
   ]
  },
  {
   "cell_type": "code",
   "execution_count": 32,
   "id": "c1f12384",
   "metadata": {},
   "outputs": [
    {
     "name": "stdout",
     "output_type": "stream",
     "text": [
      "ser1 = \n",
      "0    NaN\n",
      "1    NaN\n",
      "2    3.0\n",
      "3    4.0\n",
      "dtype: float64\n",
      "\n",
      "ser2 = \n",
      "0    1.0\n",
      "1    NaN\n",
      "2    NaN\n",
      "3    3.0\n",
      "dtype: float64\n"
     ]
    }
   ],
   "source": [
    "ser1 = pd.Series([np.nan,np.nan, 3,4])\n",
    "ser2 = pd.Series([1,np.nan,np.nan, 3])\n",
    "print(f'ser1 = \\n{ser1}')\n",
    "print(f'\\nser2 = \\n{ser2}')"
   ]
  },
  {
   "cell_type": "code",
   "execution_count": 33,
   "id": "1db0d630",
   "metadata": {},
   "outputs": [
    {
     "data": {
      "text/plain": [
       "0    NaN\n",
       "1    NaN\n",
       "2    NaN\n",
       "3    7.0\n",
       "dtype: float64"
      ]
     },
     "execution_count": 33,
     "metadata": {},
     "output_type": "execute_result"
    }
   ],
   "source": [
    "ser1 + ser2"
   ]
  },
  {
   "cell_type": "markdown",
   "id": "a9a37a1c",
   "metadata": {},
   "source": [
    "When summing data, NA values or empty data will be treated as zero."
   ]
  },
  {
   "cell_type": "code",
   "execution_count": 35,
   "id": "66f9526e",
   "metadata": {},
   "outputs": [
    {
     "data": {
      "text/plain": [
       "0"
      ]
     },
     "execution_count": 35,
     "metadata": {},
     "output_type": "execute_result"
    }
   ],
   "source": [
    "pd.Series([np.nan, pd.NA]).sum()\n"
   ]
  },
  {
   "cell_type": "code",
   "execution_count": 39,
   "id": "304ce5d7",
   "metadata": {},
   "outputs": [
    {
     "data": {
      "text/plain": [
       "np.float64(0.0)"
      ]
     },
     "execution_count": 39,
     "metadata": {},
     "output_type": "execute_result"
    }
   ],
   "source": [
    "pd.Series([], dtype='float64').sum()"
   ]
  },
  {
   "cell_type": "code",
   "execution_count": 40,
   "id": "eccc62d7",
   "metadata": {},
   "outputs": [
    {
     "data": {
      "text/plain": [
       "1"
      ]
     },
     "execution_count": 40,
     "metadata": {},
     "output_type": "execute_result"
    }
   ],
   "source": [
    "pd.Series([np.nan, pd.NA]).prod()"
   ]
  },
  {
   "cell_type": "code",
   "execution_count": 41,
   "id": "1336ec66",
   "metadata": {},
   "outputs": [
    {
     "data": {
      "text/plain": [
       "np.float64(1.0)"
      ]
     },
     "execution_count": 41,
     "metadata": {},
     "output_type": "execute_result"
    }
   ],
   "source": [
    "pd.Series([], dtype=\"float64\").prod()"
   ]
  },
  {
   "cell_type": "markdown",
   "id": "547d4e22",
   "metadata": {},
   "source": [
    "Cumulative methods like `cumsum()` and `cumprod()` ignore NA values by default preserve them in the result. This behavior can be changed with `skipna = False`"
   ]
  },
  {
   "cell_type": "code",
   "execution_count": 46,
   "id": "b5a6a4d8",
   "metadata": {},
   "outputs": [
    {
     "name": "stdout",
     "output_type": "stream",
     "text": [
      "ser = \n",
      "0    1.0\n",
      "1    NaN\n",
      "2    3.0\n",
      "3    NaN\n",
      "4    NaN\n",
      "5    5.0\n",
      "dtype: float64\n",
      "\n",
      "ser = \n",
      "0    1.0\n",
      "1    NaN\n",
      "2    4.0\n",
      "3    NaN\n",
      "4    NaN\n",
      "5    9.0\n",
      "dtype: float64\n",
      "\n",
      "ser = \n",
      "0    1.0\n",
      "1    NaN\n",
      "2    NaN\n",
      "3    NaN\n",
      "4    NaN\n",
      "5    NaN\n",
      "dtype: float64\n"
     ]
    }
   ],
   "source": [
    "ser = pd.Series([1,np.nan, 3, np.nan, np.nan, 5])\n",
    "print(f'ser = \\n{ser}')\n",
    "print(f'\\nser = \\n{ser.cumsum()}')\n",
    "print(f'\\nser = \\n{ser.cumsum(skipna=False)}')"
   ]
  },
  {
   "cell_type": "code",
   "execution_count": null,
   "id": "31f83483",
   "metadata": {},
   "outputs": [],
   "source": []
  }
 ],
 "metadata": {
  "kernelspec": {
   "display_name": "venv (3.12.3)",
   "language": "python",
   "name": "python3"
  },
  "language_info": {
   "codemirror_mode": {
    "name": "ipython",
    "version": 3
   },
   "file_extension": ".py",
   "mimetype": "text/x-python",
   "name": "python",
   "nbconvert_exporter": "python",
   "pygments_lexer": "ipython3",
   "version": "3.12.3"
  }
 },
 "nbformat": 4,
 "nbformat_minor": 5
}
