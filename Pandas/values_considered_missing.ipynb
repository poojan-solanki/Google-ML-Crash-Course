{
 "cells": [
  {
   "cell_type": "markdown",
   "id": "fdb851d9",
   "metadata": {},
   "source": [
    "#### [Working with missing Data](https://pandas.pydata.org/pandas-docs/stable/user_guide/missing_data.html#working-with-missing-data)"
   ]
  },
  {
   "cell_type": "code",
   "execution_count": 1,
   "id": "783042f1",
   "metadata": {},
   "outputs": [],
   "source": [
    "import pandas as pd\n",
    "import numpy as np\n",
    "import pyarrow as pa"
   ]
  },
  {
   "cell_type": "code",
   "execution_count": 2,
   "id": "c5c6845a",
   "metadata": {},
   "outputs": [
    {
     "data": {
      "text/plain": [
       "0    11.0\n",
       "1    12.0\n",
       "2     NaN\n",
       "dtype: float64"
      ]
     },
     "execution_count": 2,
     "metadata": {},
     "output_type": "execute_result"
    }
   ],
   "source": [
    "pd.Series([11,12], dtype=np.int64).reindex([0,1,2])"
   ]
  },
  {
   "cell_type": "code",
   "execution_count": 3,
   "id": "a7226b65",
   "metadata": {},
   "outputs": [
    {
     "data": {
      "text/plain": [
       "0   0 days 00:00:00.000000001\n",
       "1   0 days 00:00:00.000000002\n",
       "2                         NaT\n",
       "dtype: timedelta64[ns]"
      ]
     },
     "execution_count": 3,
     "metadata": {},
     "output_type": "execute_result"
    }
   ],
   "source": [
    "pd.Series([1,2], dtype=np.dtype('timedelta64[ns]')).reindex([0,1,2])"
   ]
  },
  {
   "cell_type": "code",
   "execution_count": 4,
   "id": "e9a33b46",
   "metadata": {},
   "outputs": [
    {
     "data": {
      "text/plain": [
       "0    2020-01-01\n",
       "1    2020-01-01\n",
       "2           NaT\n",
       "dtype: period[D]"
      ]
     },
     "execution_count": 4,
     "metadata": {},
     "output_type": "execute_result"
    }
   ],
   "source": [
    "pd.Series(['2020','2020'], dtype=pd.PeriodDtype('d')).reindex([0,1,2])"
   ]
  },
  {
   "cell_type": "code",
   "execution_count": 5,
   "id": "a88e00fe",
   "metadata": {},
   "outputs": [
    {
     "data": {
      "text/plain": [
       "0      11\n",
       "1      12\n",
       "2    <NA>\n",
       "dtype: Int64"
      ]
     },
     "execution_count": 5,
     "metadata": {},
     "output_type": "execute_result"
    }
   ],
   "source": [
    "pd.Series([11,12], dtype='Int64').reindex([0,1,2])"
   ]
  },
  {
   "cell_type": "code",
   "execution_count": 18,
   "id": "ff352c7e",
   "metadata": {},
   "outputs": [
    {
     "name": "stdout",
     "output_type": "stream",
     "text": [
      "0     True\n",
      "1    False\n",
      "2     True\n",
      "3    False\n",
      "dtype: bool[pyarrow]\n"
     ]
    },
    {
     "data": {
      "text/plain": [
       "33"
      ]
     },
     "execution_count": 18,
     "metadata": {},
     "output_type": "execute_result"
    }
   ],
   "source": [
    "x= pd.Series([True, False, True, False], dtype='boolean[pyarrow]').reindex([0,1,2,3])\n",
    "print(x)\n",
    "x.memory_usage(deep=True)"
   ]
  },
  {
   "cell_type": "code",
   "execution_count": 9,
   "id": "39d40d6e",
   "metadata": {},
   "outputs": [
    {
     "name": "stdout",
     "output_type": "stream",
     "text": [
      "0     True\n",
      "1    False\n",
      "2      NaN\n",
      "dtype: object\n"
     ]
    },
    {
     "data": {
      "text/plain": [
       "48"
      ]
     },
     "execution_count": 9,
     "metadata": {},
     "output_type": "execute_result"
    }
   ],
   "source": [
    "y = pd.Series([True, False], dtype=bool).reindex([0,1,2])\n",
    "print(y)\n",
    "y.memory_usage()"
   ]
  },
  {
   "cell_type": "code",
   "execution_count": 17,
   "id": "7c30d069",
   "metadata": {},
   "outputs": [
    {
     "name": "stdout",
     "output_type": "stream",
     "text": [
      "0     True\n",
      "1    False\n",
      "2     True\n",
      "3    False\n",
      "4     <NA>\n",
      "dtype: bool[pyarrow]\n"
     ]
    },
    {
     "data": {
      "text/plain": [
       "42"
      ]
     },
     "execution_count": 17,
     "metadata": {},
     "output_type": "execute_result"
    }
   ],
   "source": [
    "x= pd.Series([True, False, True, False], dtype='boolean[pyarrow]').reindex([0,1,2,3,4])\n",
    "print(x)\n",
    "x.memory_usage() "
   ]
  },
  {
   "cell_type": "code",
   "execution_count": 21,
   "id": "7ba70daf",
   "metadata": {},
   "outputs": [
    {
     "name": "stdout",
     "output_type": "stream",
     "text": [
      "0   2025-08-26\n",
      "1          NaT\n",
      "dtype: datetime64[ns]\n"
     ]
    }
   ],
   "source": [
    "ser = pd.Series([pd.Timestamp('2025-08-26'), pd.NaT])\n",
    "print(ser)"
   ]
  },
  {
   "cell_type": "code",
   "execution_count": 23,
   "id": "b88678f0",
   "metadata": {},
   "outputs": [
    {
     "data": {
      "text/plain": [
       "0    False\n",
       "1     True\n",
       "dtype: bool"
      ]
     },
     "execution_count": 23,
     "metadata": {},
     "output_type": "execute_result"
    }
   ],
   "source": [
    "pd.isna(ser)"
   ]
  },
  {
   "cell_type": "code",
   "execution_count": 30,
   "id": "029180d5",
   "metadata": {},
   "outputs": [
    {
     "name": "stdout",
     "output_type": "stream",
     "text": [
      "0      11\n",
      "1    None\n",
      "dtype: object\n"
     ]
    },
    {
     "data": {
      "text/plain": [
       "0    False\n",
       "1     True\n",
       "dtype: bool"
      ]
     },
     "execution_count": 30,
     "metadata": {},
     "output_type": "execute_result"
    }
   ],
   "source": [
    "# isna() or notna() will also consider None a missing value.\n",
    "ser1 = pd.Series([11, None], dtype='object')\n",
    "print (ser1)\n",
    "pd.isna(ser1)"
   ]
  },
  {
   "cell_type": "markdown",
   "id": "7b009c8a",
   "metadata": {},
   "source": [
    "Equality compaisons between `np.nan`, `NaT`, and `NA` do not act like `None`"
   ]
  },
  {
   "cell_type": "code",
   "execution_count": 32,
   "id": "c3468aac",
   "metadata": {},
   "outputs": [
    {
     "data": {
      "text/plain": [
       "True"
      ]
     },
     "execution_count": 32,
     "metadata": {},
     "output_type": "execute_result"
    }
   ],
   "source": [
    "None == None # noqa: E711"
   ]
  },
  {
   "cell_type": "code",
   "execution_count": 33,
   "id": "65a2d64b",
   "metadata": {},
   "outputs": [
    {
     "data": {
      "text/plain": [
       "False"
      ]
     },
     "execution_count": 33,
     "metadata": {},
     "output_type": "execute_result"
    }
   ],
   "source": [
    "np.nan == np.nan"
   ]
  },
  {
   "cell_type": "code",
   "execution_count": 34,
   "id": "5ad1b8fb",
   "metadata": {},
   "outputs": [
    {
     "data": {
      "text/plain": [
       "False"
      ]
     },
     "execution_count": 34,
     "metadata": {},
     "output_type": "execute_result"
    }
   ],
   "source": [
    "pd.NaT == pd.NaT"
   ]
  },
  {
   "cell_type": "code",
   "execution_count": 35,
   "id": "3ca1e939",
   "metadata": {},
   "outputs": [
    {
     "data": {
      "text/plain": [
       "<NA>"
      ]
     },
     "execution_count": 35,
     "metadata": {},
     "output_type": "execute_result"
    }
   ],
   "source": [
    "pd.NA == pd.NA"
   ]
  },
  {
   "cell_type": "markdown",
   "id": "0dd069f9",
   "metadata": {},
   "source": [
    "Therefore, an equality comparison between a `DataFrame` or `Series` with one of these missing values does not provide the same information as `isna()` or `notna()`."
   ]
  },
  {
   "cell_type": "code",
   "execution_count": 43,
   "id": "9c7759a8",
   "metadata": {},
   "outputs": [
    {
     "name": "stdout",
     "output_type": "stream",
     "text": [
      "0    True\n",
      "1    <NA>\n",
      "dtype: bool[pyarrow]\n",
      "0    <NA>\n",
      "1    <NA>\n",
      "dtype: bool[pyarrow]\n"
     ]
    },
    {
     "data": {
      "text/plain": [
       "0    False\n",
       "1     True\n",
       "dtype: bool"
      ]
     },
     "execution_count": 43,
     "metadata": {},
     "output_type": "execute_result"
    }
   ],
   "source": [
    "ser = pd.Series([True, None], dtype='boolean[pyarrow]')\n",
    "print(ser)\n",
    "\n",
    "print(ser == pd.NA)\n",
    "\n",
    "ser.isna()"
   ]
  },
  {
   "cell_type": "code",
   "execution_count": null,
   "id": "54a71c8f",
   "metadata": {},
   "outputs": [],
   "source": []
  }
 ],
 "metadata": {
  "kernelspec": {
   "display_name": "venv (3.12.3)",
   "language": "python",
   "name": "python3"
  },
  "language_info": {
   "codemirror_mode": {
    "name": "ipython",
    "version": 3
   },
   "file_extension": ".py",
   "mimetype": "text/x-python",
   "name": "python",
   "nbconvert_exporter": "python",
   "pygments_lexer": "ipython3",
   "version": "3.12.3"
  }
 },
 "nbformat": 4,
 "nbformat_minor": 5
}
