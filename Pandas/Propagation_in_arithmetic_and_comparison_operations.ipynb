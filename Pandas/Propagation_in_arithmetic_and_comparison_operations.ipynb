{
 "cells": [
  {
   "cell_type": "markdown",
   "id": "2d20bdf7",
   "metadata": {},
   "source": [
    "#### [Propagation in arithmetic and comparison operations](https://pandas.pydata.org/pandas-docs/stable/user_guide/missing_data.html#propagation-in-arithmetic-and-comparison-operations)"
   ]
  },
  {
   "cell_type": "code",
   "execution_count": 1,
   "id": "4bfd7cc6",
   "metadata": {},
   "outputs": [],
   "source": [
    "import pandas as pd"
   ]
  },
  {
   "cell_type": "markdown",
   "id": "e71851b7",
   "metadata": {},
   "source": [
    "In general, missing values propagate in operations involving NA. When one of the operands is unknown, the outcome of the operation is also unknown.\n",
    "\n",
    "For example, NA propagates in arithmetic operations, similarly to `np.nan`:"
   ]
  },
  {
   "cell_type": "code",
   "execution_count": 2,
   "id": "5bee7275",
   "metadata": {},
   "outputs": [
    {
     "data": {
      "text/plain": [
       "<NA>"
      ]
     },
     "execution_count": 2,
     "metadata": {},
     "output_type": "execute_result"
    }
   ],
   "source": [
    "pd.NA + 5"
   ]
  },
  {
   "cell_type": "code",
   "execution_count": 3,
   "id": "6b50fe0a",
   "metadata": {},
   "outputs": [
    {
     "data": {
      "text/plain": [
       "<NA>"
      ]
     },
     "execution_count": 3,
     "metadata": {},
     "output_type": "execute_result"
    }
   ],
   "source": [
    "pd.NA * 2"
   ]
  },
  {
   "cell_type": "code",
   "execution_count": 5,
   "id": "50ea2b31",
   "metadata": {},
   "outputs": [
    {
     "data": {
      "text/plain": [
       "<NA>"
      ]
     },
     "execution_count": 5,
     "metadata": {},
     "output_type": "execute_result"
    }
   ],
   "source": [
    "\"a\" + pd.NA"
   ]
  },
  {
   "cell_type": "code",
   "execution_count": 6,
   "id": "5626a8ae",
   "metadata": {},
   "outputs": [
    {
     "data": {
      "text/plain": [
       "<NA>"
      ]
     },
     "execution_count": 6,
     "metadata": {},
     "output_type": "execute_result"
    }
   ],
   "source": [
    "\"a\" * pd.NA"
   ]
  },
  {
   "cell_type": "markdown",
   "id": "b7098e38",
   "metadata": {},
   "source": [
    "There are a few special cases when the result is known, even when one of the operands is `NA`."
   ]
  },
  {
   "cell_type": "code",
   "execution_count": 8,
   "id": "f28c7128",
   "metadata": {},
   "outputs": [
    {
     "data": {
      "text/plain": [
       "1"
      ]
     },
     "execution_count": 8,
     "metadata": {},
     "output_type": "execute_result"
    }
   ],
   "source": [
    "pd.NA ** 0"
   ]
  },
  {
   "cell_type": "code",
   "execution_count": 9,
   "id": "2e1ca4c1",
   "metadata": {},
   "outputs": [
    {
     "data": {
      "text/plain": [
       "1"
      ]
     },
     "execution_count": 9,
     "metadata": {},
     "output_type": "execute_result"
    }
   ],
   "source": [
    "1 ** pd.NA"
   ]
  },
  {
   "cell_type": "markdown",
   "id": "c68628be",
   "metadata": {},
   "source": [
    "In equality and comparison operations, `NA` also propagates. This deviates from the behaviour of `np.nan`, where comparisons with `np.nan` always return `False`."
   ]
  },
  {
   "cell_type": "code",
   "execution_count": 12,
   "id": "dacf1f21",
   "metadata": {},
   "outputs": [
    {
     "name": "stdout",
     "output_type": "stream",
     "text": [
      "<NA>\n",
      "<NA>\n",
      "<NA>\n"
     ]
    }
   ],
   "source": [
    "print(pd.NA == 1)\n",
    "print(pd.NA ==pd.NA)\n",
    "print(pd.NA < 2.5)"
   ]
  },
  {
   "cell_type": "code",
   "execution_count": 13,
   "id": "a991e040",
   "metadata": {},
   "outputs": [
    {
     "data": {
      "text/plain": [
       "True"
      ]
     },
     "execution_count": 13,
     "metadata": {},
     "output_type": "execute_result"
    }
   ],
   "source": [
    "pd.isna(pd.NA)"
   ]
  },
  {
   "cell_type": "code",
   "execution_count": null,
   "id": "eaf0208a",
   "metadata": {},
   "outputs": [],
   "source": []
  }
 ],
 "metadata": {
  "kernelspec": {
   "display_name": "venv (3.12.3)",
   "language": "python",
   "name": "python3"
  },
  "language_info": {
   "codemirror_mode": {
    "name": "ipython",
    "version": 3
   },
   "file_extension": ".py",
   "mimetype": "text/x-python",
   "name": "python",
   "nbconvert_exporter": "python",
   "pygments_lexer": "ipython3",
   "version": "3.12.3"
  }
 },
 "nbformat": 4,
 "nbformat_minor": 5
}
